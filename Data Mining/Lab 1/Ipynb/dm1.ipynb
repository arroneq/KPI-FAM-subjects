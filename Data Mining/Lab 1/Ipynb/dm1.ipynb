{
 "cells": [
  {
   "cell_type": "markdown",
   "metadata": {},
   "source": [
    "# Аналіз та обробка експертних даних"
   ]
  },
  {
   "cell_type": "markdown",
   "metadata": {},
   "source": [
    "### Підключення бібліотек"
   ]
  },
  {
   "cell_type": "code",
   "execution_count": 55,
   "metadata": {},
   "outputs": [],
   "source": [
    "import matplotlib.pyplot as plt\n",
    "import numpy as np\n",
    "import copy\n",
    "import scipy"
   ]
  },
  {
   "cell_type": "markdown",
   "metadata": {},
   "source": [
    "### 1. Ініціалізація індивідуальних матриць мультиплікативних парних порівнянь"
   ]
  },
  {
   "cell_type": "code",
   "execution_count": 56,
   "metadata": {},
   "outputs": [
    {
     "name": "stdout",
     "output_type": "stream",
     "text": [
      "Введена кількість експертів: 5\n",
      "Введена кількість альтернатив: 5\n"
     ]
    }
   ],
   "source": [
    "# m = int(input(\"Введіть кількість експертів: \"))\n",
    "# n = int(input(\"Введіть кількість альтернатив: \"))\n",
    "\n",
    "m, n = 5, 5\n",
    "\n",
    "print(f\"Введена кількість експертів: {m}\")\n",
    "print(f\"Введена кількість альтернатив: {n}\")"
   ]
  },
  {
   "cell_type": "code",
   "execution_count": 57,
   "metadata": {},
   "outputs": [],
   "source": [
    "def create_experts_matrices(m,n):\n",
    "    E = [] # перелік матриць експертів\n",
    "\n",
    "    for expert in range(m):\n",
    "        E.append(np.zeros((n,n)))\n",
    "        for i in range(len(E[expert])):\n",
    "            for j in range(len(E[expert][0])):\n",
    "                if j < i:\n",
    "                    E[expert][i][j] = 1/E[expert][j][i] \n",
    "                elif j == i:\n",
    "                    E[expert][i][j] = 1\n",
    "                else:\n",
    "                    if i == 0:\n",
    "                        E[expert][i][j] = 7 - expert + np.random.randint(-2,2)\n",
    "                    else:\n",
    "                        E[expert][i][j] = 3 + np.random.randint(-1,1)\n",
    "\n",
    "    w = np.zeros((m)) # коефіцієнти компетентності експертів\n",
    "    for i in range(m):\n",
    "        edge = (i % 4)/10\n",
    "        w[i] = np.random.uniform(0.5,0.7) - edge\n",
    "\n",
    "    print(f\"Коефіцієнти компетентності експертів: {w}\\n\")\n",
    "    for expert in range(m):\n",
    "        print(f\"Матриця ексерта №{expert+1}: \\n{E[expert]}\\n\")\n",
    "\n",
    "    return w,E"
   ]
  },
  {
   "cell_type": "code",
   "execution_count": 58,
   "metadata": {},
   "outputs": [],
   "source": [
    "def set_experts_matrices():\n",
    "    # коефіцієнти компетентності експертів\n",
    "    w = [0.5624194, 0.50629285, 0.46370826, 0.26171411, 0.63803541]\n",
    "\n",
    "    E = [[],[],[],[],[]]\n",
    "\n",
    "    # Матриця ексерта №1\n",
    "    E[0] = np.array([\n",
    "        [1, 5, 8, 5, 5],\n",
    "        [1/5, 1, 2, 2, 2],\n",
    "        [1/8, 1/2, 1, 2, 3],\n",
    "        [1/5, 1/2, 1/2, 1, 3],\n",
    "        [1/5, 1/2, 1/3, 1/3, 1]]\n",
    "    )\n",
    "\n",
    "    # Матриця ексерта №2\n",
    "    E[1] = np.array([\n",
    "        [1, 7, 6, 7, 7],\n",
    "        [1/7, 1, 3, 3, 2],\n",
    "        [1/6, 1/3, 1, 3, 3],\n",
    "        [1/7, 1/3, 1/3, 1, 3],\n",
    "        [1/7, 1/2, 1/3, 1/3, 1]]\n",
    "    )\n",
    "\n",
    "    # Матриця ексерта №3\n",
    "    E[2] = np.array([\n",
    "        [1, 3, 5, 6, 3],\n",
    "        [1/3, 1, 2, 3, 3],\n",
    "        [1/5, 1/2, 1, 2, 2],\n",
    "        [1/6, 1/3, 1/2, 1, 3],\n",
    "        [1/3, 1/3, 1/2, 1/3, 1]]\n",
    "    )\n",
    "\n",
    "    # Матриця ексерта №4\n",
    "    E[3] = np.array([\n",
    "        [1, 5, 2, 2, 4],\n",
    "        [1/5, 1, 3, 2, 2],\n",
    "        [1/2, 1/3, 1, 2, 2],\n",
    "        [1/2, 1/2, 1/2, 1, 3],\n",
    "        [1/4, 1/2, 1/2, 1/3, 1]]\n",
    "    )\n",
    "\n",
    "    # Матриця ексерта №5\n",
    "    E[4] = np.array([\n",
    "        [1, 2, 3, 3, 1],\n",
    "        [1/2, 1, 3, 3, 2],\n",
    "        [1/3, 1/3, 1, 2, 2],\n",
    "        [1/3, 1/3, 1/2, 1, 2],\n",
    "        [1,   1/2, 1/2, 1/2, 1]]\n",
    "    )\n",
    "\n",
    "    print(f\"Коефіцієнти компетентності експертів: {w}\\n\")\n",
    "    for expert in range(m):\n",
    "        print(f\"Матриця ексерта №{expert+1}: \\n{E[expert]}\\n\")\n",
    "\n",
    "    return w,E"
   ]
  },
  {
   "cell_type": "code",
   "execution_count": 59,
   "metadata": {},
   "outputs": [
    {
     "name": "stdout",
     "output_type": "stream",
     "text": [
      "Коефіцієнти компетентності експертів: [0.60541047 0.48484193 0.36974867 0.22182552 0.65659153]\n",
      "\n",
      "Матриця ексерта №1: \n",
      "[[1.         6.         8.         7.         8.        ]\n",
      " [0.16666667 1.         2.         3.         2.        ]\n",
      " [0.125      0.5        1.         3.         2.        ]\n",
      " [0.14285714 0.33333333 0.33333333 1.         2.        ]\n",
      " [0.125      0.5        0.5        0.5        1.        ]]\n",
      "\n",
      "Матриця ексерта №2: \n",
      "[[1.         7.         7.         6.         6.        ]\n",
      " [0.14285714 1.         2.         2.         3.        ]\n",
      " [0.14285714 0.5        1.         2.         3.        ]\n",
      " [0.16666667 0.5        0.5        1.         3.        ]\n",
      " [0.16666667 0.33333333 0.33333333 0.33333333 1.        ]]\n",
      "\n",
      "Матриця ексерта №3: \n",
      "[[1.         4.         4.         4.         4.        ]\n",
      " [0.25       1.         2.         3.         2.        ]\n",
      " [0.25       0.5        1.         2.         2.        ]\n",
      " [0.25       0.33333333 0.5        1.         2.        ]\n",
      " [0.25       0.5        0.5        0.5        1.        ]]\n",
      "\n",
      "Матриця ексерта №4: \n",
      "[[1.         2.         3.         3.         4.        ]\n",
      " [0.5        1.         2.         3.         2.        ]\n",
      " [0.33333333 0.5        1.         2.         3.        ]\n",
      " [0.33333333 0.33333333 0.5        1.         3.        ]\n",
      " [0.25       0.5        0.33333333 0.33333333 1.        ]]\n",
      "\n",
      "Матриця ексерта №5: \n",
      "[[1.         2.         4.         2.         1.        ]\n",
      " [0.5        1.         3.         3.         2.        ]\n",
      " [0.25       0.33333333 1.         3.         3.        ]\n",
      " [0.5        0.33333333 0.33333333 1.         2.        ]\n",
      " [1.         0.5        0.33333333 0.5        1.        ]]\n",
      "\n"
     ]
    }
   ],
   "source": [
    "w,E = create_experts_matrices(m,n)\n",
    "# w,E = set_experts_matrices()"
   ]
  },
  {
   "cell_type": "markdown",
   "metadata": {},
   "source": [
    "### 2. Обчислення коефіцієнта узгодженості CR для кожного експерта"
   ]
  },
  {
   "cell_type": "code",
   "execution_count": 60,
   "metadata": {},
   "outputs": [],
   "source": [
    "def calculate_eigenvalues(E):\n",
    "    eigenvalues_max = np.zeros((len(E)))\n",
    "\n",
    "    for expert in range(len(E)):\n",
    "        eigenvalues, _ = np.linalg.eig(E[expert])\n",
    "        eigenvalues_max[expert] = max([value.real for value in eigenvalues if value.imag == 0])\n",
    "    \n",
    "    return eigenvalues_max"
   ]
  },
  {
   "cell_type": "code",
   "execution_count": 61,
   "metadata": {},
   "outputs": [
    {
     "name": "stdout",
     "output_type": "stream",
     "text": [
      "Максимальне власне число:\n",
      "    Для експерта №1: 5.282479828033798\n",
      "    Для експерта №2: 5.337377015663163\n",
      "    Для експерта №3: 5.238366903059683\n",
      "    Для експерта №4: 5.262284682897854\n",
      "    Для експерта №5: 5.845489875769125\n"
     ]
    }
   ],
   "source": [
    "eigenvalues_max = calculate_eigenvalues(E)\n",
    "\n",
    "print(\"Максимальне власне число:\")\n",
    "for expert in range(m):\n",
    "    print(f\"    Для експерта №{expert+1}: {eigenvalues_max[expert]}\")"
   ]
  },
  {
   "cell_type": "code",
   "execution_count": 62,
   "metadata": {},
   "outputs": [],
   "source": [
    "RI = {\n",
    "    1: [0.0],\n",
    "    2: [0.0],\n",
    "    3: [0.58],\n",
    "    4: [0.9],\n",
    "    5: [1.12],\n",
    "    6: [1.24],\n",
    "    7: [1.32],\n",
    "    8: [1.41],\n",
    "    9: [1.45],\n",
    "    10: [1.49]\n",
    "}"
   ]
  },
  {
   "cell_type": "code",
   "execution_count": 63,
   "metadata": {},
   "outputs": [],
   "source": [
    "def calculate_CR(m, eigenvalues_max, RI):\n",
    "    CR = np.zeros((m))\n",
    "\n",
    "    for expert in range(m):\n",
    "        CR[expert] = (eigenvalues_max[expert] - n)/(n-1)/RI[n]\n",
    "\n",
    "    return CR"
   ]
  },
  {
   "cell_type": "code",
   "execution_count": 64,
   "metadata": {},
   "outputs": [
    {
     "name": "stdout",
     "output_type": "stream",
     "text": [
      "Коефіцієнти узгодженості CR експертів: [0.06305353 0.07530737 0.0532069  0.05854569 0.18872542]\n"
     ]
    }
   ],
   "source": [
    "CR = calculate_CR(m, eigenvalues_max, RI)\n",
    "\n",
    "print(f\"Коефіцієнти узгодженості CR експертів: {CR}\")"
   ]
  },
  {
   "cell_type": "markdown",
   "metadata": {},
   "source": [
    "### 3. Обчислення вектора ваг (пріоритетів) альтернатив для кожного експерта"
   ]
  },
  {
   "cell_type": "code",
   "execution_count": 65,
   "metadata": {},
   "outputs": [],
   "source": [
    "# def calculate_eigenvector(A):\n",
    "#     \"\"\"\n",
    "#     Розділити елементи кожного стовпця на суму елементів цього стовпця (тобто нормалізувати стовпець), потім додати елементи кожного отриманого рядка і розділити цю суму на кількість елементів рядка. Це – процес усереднення за нормальванними стовпцямями. \n",
    "#     \"\"\"\n",
    "\n",
    "#     vector = np.zeros(len(A[0]))\n",
    "#     for j in range(len(A[0])):\n",
    "#         sum = np.sum([A[i][j] for i in range(len(A))])\n",
    "#         for i in range(len(A)):\n",
    "#             A[i][j] = A[i][j]/sum\n",
    "\n",
    "#     for i in range(len(A)):\n",
    "#         vector[i] = np.sum(A[i])/len(A[i])\n",
    "\n",
    "#     return vector"
   ]
  },
  {
   "cell_type": "code",
   "execution_count": 66,
   "metadata": {},
   "outputs": [],
   "source": [
    "def calculate_eigenvector(A):\n",
    "    \"\"\"\n",
    "    Підсумовувати елементи кожного стовпця та отримати обернені величини цих сум. Нормалізувати їх так, щоб їхня сума дорівнювала одиниці, тобто розділити кожну обернену величину у сумі всіх обернених величин. \n",
    "    \"\"\"\n",
    "\n",
    "    vector = np.zeros(len(A[0]))\n",
    "    for j in range(len(A[0])):\n",
    "        vector[j] = 1/np.sum([A[i][j] for i in range(len(A))])\n",
    "\n",
    "    sum = np.sum(vector)\n",
    "    for j in range(len(vector)):\n",
    "        vector[j] = vector[j]/sum\n",
    "\n",
    "    return vector"
   ]
  },
  {
   "cell_type": "code",
   "execution_count": 67,
   "metadata": {},
   "outputs": [
    {
     "name": "stdout",
     "output_type": "stream",
     "text": [
      "Максимальне власне число та відповідний нормалізований вектор ваг:\n",
      "    Для експерта №1: 5.282479828033798, [0.65340036 0.12227921 0.08611212 0.07027541 0.0679329 ]\n",
      "    Для експерта №2: 5.337377015663163, [0.63817531 0.11070388 0.09537565 0.0911679  0.06457726]\n",
      "    Для експерта №3: 5.238366903059683, [0.51597355 0.16293902 0.12899339 0.09828068 0.09381337]\n",
      "    Для експерта №4: 5.262284682897854, [0.42441636 0.23669374 0.15009847 0.10989352 0.07889791]\n",
      "    Для експерта №5: 5.845489875769125, [0.34986854 0.27289746 0.1312007  0.11969187 0.12634142]\n"
     ]
    }
   ],
   "source": [
    "eigenvectors = np.zeros((m,n)) # list of expert's eigenvectors\n",
    "\n",
    "for expert in range(m):\n",
    "    eigenvectors[expert] = calculate_eigenvector(copy.deepcopy(E[expert]))\n",
    "\n",
    "print(\"Максимальне власне число та відповідний нормалізований вектор ваг:\")\n",
    "for expert in range(m):\n",
    "    print(f\"    Для експерта №{expert+1}: {eigenvalues_max[expert]}, {eigenvectors[expert]}\")"
   ]
  },
  {
   "cell_type": "markdown",
   "metadata": {},
   "source": [
    "### 4. Обчислення агрегованого результуючого вектора ваг пріоритетів для групи експертів"
   ]
  },
  {
   "cell_type": "code",
   "execution_count": 68,
   "metadata": {},
   "outputs": [],
   "source": [
    "def calculate_merged_eigenvector(eigenvectors, w, n):\n",
    "    merged_eigenvector = np.zeros(n)\n",
    "    for alternative in range(n):\n",
    "        merged_eigenvector[alternative] = scipy.stats.mstats.gmean(\n",
    "            [eigenvectors[expert][alternative] for expert in range(m)], \n",
    "            weights=w\n",
    "        )\n",
    "\n",
    "    sum = np.sum(merged_eigenvector)\n",
    "    for i in range(len(merged_eigenvector)):\n",
    "        merged_eigenvector[i] = merged_eigenvector[i]/sum\n",
    "\n",
    "    return merged_eigenvector"
   ]
  },
  {
   "cell_type": "code",
   "execution_count": 69,
   "metadata": {},
   "outputs": [
    {
     "name": "stdout",
     "output_type": "stream",
     "text": [
      "Нормований агрегований вектор ваг для групи експертів: [0.52384862 0.17359024 0.11549523 0.09838682 0.08867908]\n"
     ]
    }
   ],
   "source": [
    "merged_eigenvector = calculate_merged_eigenvector(eigenvectors, w, n)\n",
    "\n",
    "print(f\"Нормований агрегований вектор ваг для групи експертів: {merged_eigenvector}\")"
   ]
  },
  {
   "cell_type": "markdown",
   "metadata": {},
   "source": [
    "### 5. Визначення спектра ваг для кожної альтернативи "
   ]
  },
  {
   "cell_type": "code",
   "execution_count": 70,
   "metadata": {},
   "outputs": [
    {
     "data": {
      "image/png": "[encoded data removed]",
      "text/plain": [
       "<Figure size 640x480 with 1 Axes>"
      ]
     },
     "metadata": {},
     "output_type": "display_data"
    },
    {
     "data": {
      "image/png": "[encoded data removed]",
      "text/plain": [
       "<Figure size 640x480 with 1 Axes>"
      ]
     },
     "metadata": {},
     "output_type": "display_data"
    },
    {
     "data": {
      "image/png": "[encoded data removed]",
      "text/plain": [
       "<Figure size 640x480 with 1 Axes>"
      ]
     },
     "metadata": {},
     "output_type": "display_data"
    },
    {
     "data": {
      "image/png": "[encoded data removed]",
      "text/plain": [
       "<Figure size 640x480 with 1 Axes>"
      ]
     },
     "metadata": {},
     "output_type": "display_data"
    },
    {
     "data": {
      "image/png": "[encoded data removed]",
      "text/plain": [
       "<Figure size 640x480 with 1 Axes>"
      ]
     },
     "metadata": {},
     "output_type": "display_data"
    }
   ],
   "source": [
    "spectrum = []\n",
    "\n",
    "for alternative in range(n):\n",
    "    spectrum.append(plt.hist([eigenvectors[expert][alternative] for expert in range(m)], rwidth=0.95, range=(0,1), bins=10))\n",
    "    plt.xticks(np.arange(0, 1+0.1, step=0.1))\n",
    "    plt.yticks(np.arange(0, m+1, step=1))\n",
    "    plt.ylim(0,m+0.2)\n",
    "    plt.grid(axis=\"y\")\n",
    "    plt.title(f\"Спектр ваг альтернативи #{alternative+1}\")\n",
    "    plt.xlabel(\"10 рівновеликих відрізків спектра\")\n",
    "    plt.ylabel(\"Кількість експертів\")\n",
    "    plt.scatter([eigenvectors[expert][alternative] for expert in range(m)], np.zeros(m), marker=\"|\", color=\"red\")\n",
    "    plt.plot([merged_eigenvector[alternative], merged_eigenvector[alternative]], [0, m+1], linewidth=3, color=\"red\")\n",
    "    plt.show()"
   ]
  },
  {
   "cell_type": "markdown",
   "metadata": {},
   "source": [
    "### 6. Обчисленння групової узгодженості (спектрального коефіцієнта Double Entropy)"
   ]
  },
  {
   "cell_type": "code",
   "execution_count": 71,
   "metadata": {},
   "outputs": [],
   "source": [
    "def calculate_A(k):\n",
    "    if k == 1:\n",
    "        return 1\n",
    "    else:\n",
    "        return (\n",
    "            (1 + int((n-1)/(k-1))*(k-1) - n) * np.log((int((n-1)/(k-1)) + 1)/(int((n-1)/(k-1)) + n - 1)) * ((int((n-1)/(k-1)) + 1)/(int((n-1)/(k-1)) + n - 1))\n",
    "        ) + (\n",
    "            ((n - 1 - int((n-1)/(k-1))*(k-1)) - k) * np.log(int((n-1)/(k-1))/(int((n-1)/(k-1)) + n - 1)) * (int((n-1)/(k-1))/(int((n-1)/(k-1)) + n - 1))\n",
    "        )"
   ]
  },
  {
   "cell_type": "code",
   "execution_count": 72,
   "metadata": {},
   "outputs": [],
   "source": [
    "def calculate_B(k, d):\n",
    "    if k == 1:\n",
    "        return 0\n",
    "    elif k == n:\n",
    "        return np.log(n)\n",
    "    else:\n",
    "        return ((k-1)/d) * np.log(d) - ((d-k+1)/d) * np.log((d-k+1)/d)"
   ]
  },
  {
   "cell_type": "code",
   "execution_count": 73,
   "metadata": {},
   "outputs": [],
   "source": [
    "def calculate_C(n, m):\n",
    "    if m < n:\n",
    "        return np.log(m)\n",
    "    else:\n",
    "        return (\n",
    "            (int(m/n) + 1) * np.log((int(m/n) + 1)/m) * ((n/m) * int(m/n) - 1)\n",
    "        ) + (\n",
    "            int(m/n) * np.log(int(m/n)/m) * (1 - (n/m)*(int(m/n) + 1))\n",
    "        )"
   ]
  },
  {
   "cell_type": "code",
   "execution_count": 74,
   "metadata": {},
   "outputs": [],
   "source": [
    "def calculate_DE(n, spectrum):\n",
    "    DE = np.zeros(n)\n",
    "\n",
    "    for alternative in range(n):\n",
    "        d, q = [], []\n",
    "        nonzero_indeces = np.nonzero(np.array(spectrum[alternative][0]))[0]\n",
    "        k = len(nonzero_indeces)\n",
    "\n",
    "        for i in range(k):\n",
    "            if i == k-1:\n",
    "                d.append(n if k == 1 else (n - 1) + (nonzero_indeces[0] - nonzero_indeces[i]) + int((n-1)/(k-1)))\n",
    "            else:\n",
    "                d.append(nonzero_indeces[i+1] - nonzero_indeces[i])\n",
    "            q.append(spectrum[alternative][0][nonzero_indeces[i]]/np.sum(spectrum[alternative][0]))\n",
    "\n",
    "        p = [d[i]/np.sum(d) for i in range(len(d))]\n",
    "\n",
    "        Hp = -np.sum([p[i]*np.log(p[i]) for i in range(len(p))])\n",
    "        Hq = -np.sum([q[i]*np.log(q[i]) for i in range(len(q))])\n",
    "\n",
    "        A = calculate_A(k)\n",
    "        B = calculate_B(k,np.sum(d))\n",
    "        C = calculate_C(n,m)\n",
    "\n",
    "        Hp = 1 if k == n else (Hp - B)/(A - B)\n",
    "        Hq = Hq/C\n",
    "\n",
    "        DE[alternative] = 1 - (Hp+Hq)/2\n",
    "\n",
    "    return DE"
   ]
  },
  {
   "cell_type": "code",
   "execution_count": 75,
   "metadata": {},
   "outputs": [
    {
     "name": "stdout",
     "output_type": "stream",
     "text": [
      "Групова узгодженість експертів (коефіцієнт DE): [0.08613531 0.79091717 0.79091717 0.79091717 0.84454125]\n"
     ]
    }
   ],
   "source": [
    "DE = calculate_DE(n, spectrum)\n",
    "\n",
    "print(f\"Групова узгодженість експертів (коефіцієнт DE): {DE}\")"
   ]
  },
  {
   "cell_type": "code",
   "execution_count": 76,
   "metadata": {},
   "outputs": [
    {
     "name": "stdout",
     "output_type": "stream",
     "text": [
      "Матриця експерта №5: \n",
      "[[1.         2.         4.         2.         1.        ]\n",
      " [0.5        1.         3.         3.         2.        ]\n",
      " [0.25       0.33333333 1.         3.         3.        ]\n",
      " [0.5        0.33333333 0.33333333 1.         2.        ]\n",
      " [1.         0.5        0.33333333 0.5        1.        ]]\n"
     ]
    }
   ],
   "source": [
    "the_least_consistent_alternative_index = np.argmin(DE)\n",
    "\n",
    "spectrum_distances = [abs(eigenvectors[expert][the_least_consistent_alternative_index] - merged_eigenvector[the_least_consistent_alternative_index]) for expert in range(m)]\n",
    "\n",
    "the_worst_expert = np.argmax(spectrum_distances)\n",
    "\n",
    "print(f\"Матриця експерта №{the_worst_expert+1}: \\n{E[the_worst_expert]}\")"
   ]
  },
  {
   "cell_type": "markdown",
   "metadata": {},
   "source": [
    "### 7. Побудова ідеальної транзитивної матриці"
   ]
  },
  {
   "cell_type": "code",
   "execution_count": 77,
   "metadata": {},
   "outputs": [
    {
     "name": "stdout",
     "output_type": "stream",
     "text": [
      "Ідеальна транзитивна матриця: \n",
      "[[1.         3.01773078 4.53567332 5.3243779  5.90724018]\n",
      " [0.33137482 1.         1.50300794 1.76436478 1.95751066]\n",
      " [0.22047443 0.66533248 1.         1.17388919 1.30239542]\n",
      " [0.18781537 0.56677622 0.85186916 1.         1.10947049]\n",
      " [0.16928379 0.5108529  0.76781597 0.90133086 1.        ]]\n",
      "\n",
      "Матриця експерта №5: \n",
      "[[1.         2.         4.         2.         1.        ]\n",
      " [0.5        1.         3.         3.         2.        ]\n",
      " [0.25       0.33333333 1.         3.         3.        ]\n",
      " [0.5        0.33333333 0.33333333 1.         2.        ]\n",
      " [1.         0.5        0.33333333 0.5        1.        ]]\n"
     ]
    }
   ],
   "source": [
    "T = np.zeros((n,n))\n",
    "\n",
    "for i in range(len(T)):\n",
    "    for j in range(len(T[0])):\n",
    "        T[i][j] = merged_eigenvector[i]/merged_eigenvector[j]\n",
    "\n",
    "print(f\"Ідеальна транзитивна матриця: \\n{T}\")\n",
    "\n",
    "print(f\"\\nМатриця експерта №{the_worst_expert+1}: \\n{E[the_worst_expert]}\")"
   ]
  },
  {
   "cell_type": "code",
   "execution_count": 78,
   "metadata": {},
   "outputs": [
    {
     "name": "stdout",
     "output_type": "stream",
     "text": [
      "Матриця різниці відстаней: \n",
      "[[0.         1.01773078 0.53567332 3.3243779  4.90724018]\n",
      " [0.16862518 0.         1.49699206 1.23563522 0.04248934]\n",
      " [0.02952557 0.33199915 0.         1.82611081 1.69760458]\n",
      " [0.31218463 0.23344289 0.51853583 0.         0.89052951]\n",
      " [0.83071621 0.0108529  0.43448263 0.40133086 0.        ]]\n",
      "\n",
      "Найбільш віддалений елемент матриці експерта: e[0][4]\n"
     ]
    }
   ],
   "source": [
    "matrix_distance = abs(T-E[the_worst_expert])\n",
    "print(f\"Матриця різниці відстаней: \\n{matrix_distance}\")\n",
    "\n",
    "the_worst_element = np.argmax(matrix_distance) \n",
    "print(f\"\\nНайбільш віддалений елемент матриці експерта: e[{the_worst_element // n}][{the_worst_element % n}]\")"
   ]
  },
  {
   "cell_type": "code",
   "execution_count": 79,
   "metadata": {},
   "outputs": [
    {
     "name": "stdout",
     "output_type": "stream",
     "text": [
      "Вигляд матриці експерта №5: \n",
      "[[1.         2.         4.         2.         1.        ]\n",
      " [0.5        1.         3.         3.         2.        ]\n",
      " [0.25       0.33333333 1.         3.         3.        ]\n",
      " [0.5        0.33333333 0.33333333 1.         2.        ]\n",
      " [1.         0.5        0.33333333 0.5        1.        ]]\n",
      "\n",
      "Відкорегований вигляд матриці експерта №5 відповідно до ідеальної матриці: \n",
      "[[1.         2.         4.         2.         6.        ]\n",
      " [0.5        1.         3.         3.         2.        ]\n",
      " [0.25       0.33333333 1.         3.         3.        ]\n",
      " [0.5        0.33333333 0.33333333 1.         2.        ]\n",
      " [1.         0.5        0.33333333 0.5        1.        ]]\n"
     ]
    }
   ],
   "source": [
    "print(f\"Вигляд матриці експерта №{the_worst_expert+1}: \\n{E[the_worst_expert]}\")\n",
    "\n",
    "E[the_worst_expert][the_worst_element // n][the_worst_element % n] = round(T[the_worst_element // n][the_worst_element % n])\n",
    "\n",
    "print(f\"\\nВідкорегований вигляд матриці експерта №{the_worst_expert+1} відповідно до ідеальної матриці: \\n{E[the_worst_expert]}\")"
   ]
  },
  {
   "cell_type": "code",
   "execution_count": 80,
   "metadata": {},
   "outputs": [
    {
     "name": "stdout",
     "output_type": "stream",
     "text": [
      "Групова узгодженість експертів (коефіцієнт DE): [0.08613531 0.79091717 0.79091717 0.79091717 1.        ]\n"
     ]
    }
   ],
   "source": [
    "eigenvalues_max = calculate_eigenvalues(E)\n",
    "\n",
    "eigenvectors = np.zeros((m,n))\n",
    "for expert in range(m):\n",
    "    eigenvectors[expert] = calculate_eigenvector(copy.deepcopy(E[expert]))\n",
    "\n",
    "merged_eigenvector = calculate_merged_eigenvector(eigenvectors, w, n)\n",
    "\n",
    "spectrum = []\n",
    "for alternative in range(n):\n",
    "    spectrum.append(np.histogram([eigenvectors[expert][alternative] for expert in range(m)], range=(0,1), bins=10))\n",
    "\n",
    "DE = calculate_DE(n, spectrum)\n",
    "\n",
    "print(f\"Групова узгодженість експертів (коефіцієнт DE): {DE}\")"
   ]
  },
  {
   "cell_type": "markdown",
   "metadata": {},
   "source": [
    "### 8. Ітераційна процедура оптимізації групової узгодженості (DE) "
   ]
  },
  {
   "cell_type": "code",
   "execution_count": null,
   "metadata": {},
   "outputs": [],
   "source": [
    "k = 1\n",
    "while (DE > 0.75).all() != True:\n",
    "    # процедура оптимізації\n",
    "    the_least_consistent_alternative_index = np.argmin(DE)\n",
    "\n",
    "    spectrum_distances = [abs(eigenvectors[expert][the_least_consistent_alternative_index] - merged_eigenvector[the_least_consistent_alternative_index]) for expert in range(m)]\n",
    "\n",
    "    the_worst_expert = np.argmax(spectrum_distances)\n",
    "\n",
    "    T = np.zeros((n,n))\n",
    "\n",
    "    for i in range(len(T)):\n",
    "        for j in range(len(T[0])):\n",
    "            T[i][j] = merged_eigenvector[i]/merged_eigenvector[j]\n",
    "\n",
    "    matrix_distance = abs(T-E[the_worst_expert])\n",
    "    the_worst_element = np.argmax(matrix_distance) \n",
    "\n",
    "    E[the_worst_expert][the_worst_element // n][the_worst_element % n] = round(T[the_worst_element // n][the_worst_element % n])\n",
    "    \n",
    "    # процедура переобчислення\n",
    "    eigenvalues_max = calculate_eigenvalues(E)\n",
    "\n",
    "    eigenvectors = np.zeros((m,n))\n",
    "    for expert in range(m):\n",
    "        eigenvectors[expert] = calculate_eigenvector(copy.deepcopy(E[expert]))\n",
    "\n",
    "    merged_eigenvector = calculate_merged_eigenvector(eigenvectors, w, n)\n",
    "\n",
    "    spectrum = []\n",
    "    for alternative in range(n):\n",
    "        spectrum.append(np.histogram([eigenvectors[expert][alternative] for expert in range(m)], range=(0,1), bins=10))\n",
    "\n",
    "    DE = calculate_DE(n, spectrum)\n",
    "\n",
    "    print(f\"Ітерація №{k} Групова узгодженість експертів (коефіцієнт DE): {DE}\")\n",
    "    k += 1"
   ]
  }
 ],
 "metadata": {
  "kernelspec": {
   "display_name": "Python 3",
   "language": "python",
   "name": "python3"
  },
  "language_info": {
   "codemirror_mode": {
    "name": "ipython",
    "version": 3
   },
   "file_extension": ".py",
   "mimetype": "text/x-python",
   "name": "python",
   "nbconvert_exporter": "python",
   "pygments_lexer": "ipython3",
   "version": "3.8.10"
  },
  "orig_nbformat": 4
 },
 "nbformat": 4,
 "nbformat_minor": 2
}
