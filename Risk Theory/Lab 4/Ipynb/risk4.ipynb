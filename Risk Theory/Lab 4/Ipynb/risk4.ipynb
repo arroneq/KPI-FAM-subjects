{
 "cells": [
  {
   "cell_type": "markdown",
   "metadata": {},
   "source": [
    "# Dynamic financial analysis using Markov chains"
   ]
  },
  {
   "cell_type": "code",
   "execution_count": 59,
   "metadata": {},
   "outputs": [],
   "source": [
    "import matplotlib.pyplot as plt\n",
    "import numpy as np"
   ]
  },
  {
   "cell_type": "markdown",
   "metadata": {},
   "source": [
    "# Initialization"
   ]
  },
  {
   "cell_type": "code",
   "execution_count": 60,
   "metadata": {},
   "outputs": [],
   "source": [
    "M = 8\n",
    "a = 0.1\n",
    "b = 6\n",
    "annual_payout_levels = np.array([20.33, 29.12, 20.1, 20.42, 25.74, 30.68, 36.29, 41.93, 43.17])/100\t\t\n",
    "# annual_payout_levels = np.array([10, 20, 40, 60, 90])/100\t\t\n",
    "\n",
    "P = np.zeros((M+1,M+1))\n",
    "\n",
    "P[0][0] = 1.0\n",
    "for i in range(1,len(P)):\n",
    "    for j in range(len(P[0])):\n",
    "        if j == M:\n",
    "            P[i][j] = len(np.where(i + round(b*(1-a)) - (b*annual_payout_levels).round() >= M)[0])/len(annual_payout_levels)\n",
    "        elif j == 0:\n",
    "            P[i][j] = len(np.where(i + round(b*(1-a)) - (b*annual_payout_levels).round() <= 0)[0])/len(annual_payout_levels)\n",
    "        else:\n",
    "            P[i][j] = len(np.where(i + round(b*(1-a)) - (b*annual_payout_levels).round() == j)[0])/len(annual_payout_levels)"
   ]
  },
  {
   "cell_type": "code",
   "execution_count": 61,
   "metadata": {},
   "outputs": [
    {
     "name": "stdout",
     "output_type": "stream",
     "text": [
      "[[1.         0.         0.         0.         0.         0.\n",
      "  0.         0.         0.        ]\n",
      " [0.         0.         0.         0.22222222 0.44444444 0.33333333\n",
      "  0.         0.         0.        ]\n",
      " [0.         0.         0.         0.         0.22222222 0.44444444\n",
      "  0.33333333 0.         0.        ]\n",
      " [0.         0.         0.         0.         0.         0.22222222\n",
      "  0.44444444 0.33333333 0.        ]\n",
      " [0.         0.         0.         0.         0.         0.\n",
      "  0.22222222 0.44444444 0.33333333]\n",
      " [0.         0.         0.         0.         0.         0.\n",
      "  0.         0.22222222 0.77777778]\n",
      " [0.         0.         0.         0.         0.         0.\n",
      "  0.         0.         1.        ]\n",
      " [0.         0.         0.         0.         0.         0.\n",
      "  0.         0.         1.        ]\n",
      " [0.         0.         0.         0.         0.         0.\n",
      "  0.         0.         1.        ]]\n",
      "\n",
      "1.0 1.0 1.0 1.0 1.0 1.0 1.0 1.0 1.0 "
     ]
    }
   ],
   "source": [
    "print(P, end=\"\\n\\n\")\n",
    "\n",
    "for i in range(len(P)):\n",
    "    print(sum(P[i]), end=\" \")"
   ]
  },
  {
   "cell_type": "code",
   "execution_count": 62,
   "metadata": {},
   "outputs": [],
   "source": [
    "N = 13\n",
    "b = 1667 # insurance premium at the initial time (2022)\n",
    "u1 = 576 # initial (2022) capital of the company\n",
    "\n",
    "years = np.arange(2014,2023,1)\n",
    "annual_payout_levels = np.array([20.33, 29.12, 20.1, 20.42, 25.74, 30.68, 36.29, 41.93, 43.17])/100\t\t"
   ]
  },
  {
   "cell_type": "code",
   "execution_count": 63,
   "metadata": {},
   "outputs": [
    {
     "data": {
      "image/png": "[encoded data removed]",
      "text/plain": [
       "<Figure size 640x480 with 1 Axes>"
      ]
     },
     "metadata": {},
     "output_type": "display_data"
    }
   ],
   "source": [
    "plt.title(\"Annual payout levels\")\n",
    "plt.ylabel(\"Payout level\")\n",
    "plt.xlabel(\"Year\")\n",
    "plt.plot(years, annual_payout_levels, color=\"blue\")\n",
    "plt.plot(years, annual_payout_levels, \"o\", color=\"blue\")\n",
    "plt.show()"
   ]
  },
  {
   "cell_type": "markdown",
   "metadata": {},
   "source": [
    "# Markov chain generation"
   ]
  },
  {
   "cell_type": "code",
   "execution_count": 64,
   "metadata": {},
   "outputs": [],
   "source": [
    "def generate_matrix_P(M, a, b, annual_payout_levels):\n",
    "    P = np.zeros((M+1,M+1))\n",
    "\n",
    "    P[0][0] = 1.0\n",
    "    for i in range(1,len(P)):\n",
    "        for j in range(len(P[0])):\n",
    "            if j == M:\n",
    "                P[i][j] = len(np.where(i + round(b*(1-a)) - (b*annual_payout_levels).round() >= M)[0])/len(annual_payout_levels)\n",
    "            elif j == 0:\n",
    "                P[i][j] = len(np.where(i + round(b*(1-a)) - (b*annual_payout_levels).round() <= 0)[0])/len(annual_payout_levels)\n",
    "            else:\n",
    "                P[i][j] = len(np.where(i + round(b*(1-a)) - (b*annual_payout_levels).round() == j)[0])/len(annual_payout_levels)\n",
    "    \n",
    "    return P"
   ]
  },
  {
   "cell_type": "code",
   "execution_count": 65,
   "metadata": {},
   "outputs": [],
   "source": [
    "def P_to_power_T(P, T):\n",
    "    return np.linalg.matrix_power(P, T)"
   ]
  },
  {
   "cell_type": "code",
   "execution_count": 66,
   "metadata": {},
   "outputs": [],
   "source": [
    "a = 0.7 # share of premiums spent on servicing insurance contracts\n",
    "M = 2452\n",
    "\n",
    "P = generate_matrix_P(M, a, b, annual_payout_levels)"
   ]
  },
  {
   "cell_type": "code",
   "execution_count": 67,
   "metadata": {},
   "outputs": [
    {
     "name": "stdout",
     "output_type": "stream",
     "text": [
      "Default probability at time T = 10: 0.14144627091326714\n"
     ]
    }
   ],
   "source": [
    "P_to_pow_10 = P_to_power_T(P, 10)\n",
    "\n",
    "print(\"Default probability at time T = 10:\", P_to_pow_10[u1][0])"
   ]
  },
  {
   "cell_type": "code",
   "execution_count": 68,
   "metadata": {},
   "outputs": [
    {
     "name": "stdout",
     "output_type": "stream",
     "text": [
      "Default probability at time T = 10: 0.14\n",
      "Default probability at time T = 20: 0.28\n",
      "Default probability at time T = 30: 0.36\n",
      "Default probability at time T = 40: 0.41\n",
      "Default probability at time T = 50: 0.45\n",
      "Default probability at time T = 60: 0.48\n",
      "Default probability at time T = 70: 0.51\n",
      "Default probability at time T = 80: 0.53\n",
      "Default probability at time T = 90: 0.55\n",
      "Default probability at time T = 100: 0.56\n"
     ]
    }
   ],
   "source": [
    "for T in range(10, 101, 10):\n",
    "    P_to_power = P_to_power_T(P, T)\n",
    "    print(f\"Default probability at time T = {T}:\", round(P_to_power[u1][0],2))"
   ]
  }
 ],
 "metadata": {
  "kernelspec": {
   "display_name": "Python 3",
   "language": "python",
   "name": "python3"
  },
  "language_info": {
   "codemirror_mode": {
    "name": "ipython",
    "version": 3
   },
   "file_extension": ".py",
   "mimetype": "text/x-python",
   "name": "python",
   "nbconvert_exporter": "python",
   "pygments_lexer": "ipython3",
   "version": "3.8.10"
  },
  "orig_nbformat": 4
 },
 "nbformat": 4,
 "nbformat_minor": 2
}
