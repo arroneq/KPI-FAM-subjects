{
 "cells": [
  {
   "cell_type": "code",
   "execution_count": 1,
   "metadata": {},
   "outputs": [],
   "source": [
    "import scipy.io\n",
    "import numpy as np\n",
    "\n",
    "import pandas as pd\n",
    "# pd.reset_option('display.max_rows')\n",
    "pd.set_option('display.max_rows', 50)\n",
    "pd.set_option('display.max_columns', 50)"
   ]
  },
  {
   "cell_type": "code",
   "execution_count": 2,
   "metadata": {},
   "outputs": [],
   "source": [
    "data_house_mat = scipy.io.loadmat(\"Data/processed data_house.mat\")\n",
    "data_senate_mat = scipy.io.loadmat(\"Data/processed data_senate.mat\")"
   ]
  },
  {
   "cell_type": "code",
   "execution_count": 30,
   "metadata": {},
   "outputs": [],
   "source": [
    "v_rc_data_house = pd.DataFrame(\n",
    "    data = data_house_mat['V_rc'],\n",
    "\tindex = [f\"{i+1}\" for i in range(len(data_house_mat['V_rc']))], # 1st column as index\n",
    "\tcolumns = [f\"{i+1}\" for i in range(len(data_house_mat['V_rc'][0]))] # 1st row as the column names\n",
    ")\n",
    "leader_rc_data_house = pd.DataFrame(\n",
    "    data = data_house_mat['leader_rc'],\n",
    "\tindex = [f\"{i+1}\" for i in range(len(data_house_mat['leader_rc']))], # 1st column as index\n",
    "\tcolumns = [f\"{i+1}\" for i in range(len(data_house_mat['leader_rc'][0]))] # 1st row as the column names\n",
    ")\n",
    "whip_rc_data_house = pd.DataFrame(\n",
    "    data = data_house_mat['whip_rc'],\n",
    "\tindex = [f\"{i+1}\" for i in range(len(data_house_mat['whip_rc']))], # 1st column as index\n",
    "\tcolumns = [f\"{i+1}\" for i in range(len(data_house_mat['whip_rc'][0]))] # 1st row as the column names\n",
    ")\n",
    "party_list_data_house = pd.DataFrame(\n",
    "    data = data_house_mat['party_list'],\n",
    "\tindex = [f\"{i+1}\" for i in range(len(data_house_mat['party_list']))], # 1st column as index\n",
    "\tcolumns = [f\"{i+1}\" for i in range(len(data_house_mat['party_list'][0]))] # 1st row as the column names\n",
    ")"
   ]
  },
  {
   "cell_type": "code",
   "execution_count": 74,
   "metadata": {},
   "outputs": [
    {
     "data": {
      "text/plain": [
       "1     1.0\n",
       "2     0.0\n",
       "3     0.0\n",
       "4     NaN\n",
       "5     0.0\n",
       "6     NaN\n",
       "7     NaN\n",
       "8     1.0\n",
       "9     0.0\n",
       "10    1.0\n",
       "Name: 15, dtype: float64"
      ]
     },
     "execution_count": 74,
     "metadata": {},
     "output_type": "execute_result"
    }
   ],
   "source": [
    "v_rc_data_house.loc[\"15\"].head(10)"
   ]
  },
  {
   "cell_type": "code",
   "execution_count": 75,
   "metadata": {},
   "outputs": [
    {
     "data": {
      "text/plain": [
       "0.0"
      ]
     },
     "execution_count": 75,
     "metadata": {},
     "output_type": "execute_result"
    }
   ],
   "source": [
    "sum(leader_rc_data_house.loc[\"15\"].head(869))"
   ]
  },
  {
   "cell_type": "code",
   "execution_count": 11,
   "metadata": {},
   "outputs": [],
   "source": [
    "v_rc_data_senate = pd.DataFrame(\n",
    "    data = data_senate_mat['V_rc'],\n",
    "\tindex = [i+1 for i in range(len(data_senate_mat['V_rc']))], # 1st column as index\n",
    "\tcolumns = [i+1 for i in range(len(data_senate_mat['V_rc'][0]))] # 1st row as the column names\n",
    ")\n",
    "leader_rc_data_senate = pd.DataFrame(\n",
    "    data = data_senate_mat['leader_rc'],\n",
    "\tindex = [i+1 for i in range(len(data_senate_mat['leader_rc']))], # 1st column as index\n",
    "\tcolumns = [i+1 for i in range(len(data_senate_mat['leader_rc'][0]))] # 1st row as the column names\n",
    ")\n",
    "whip_rc_data_senate = pd.DataFrame(\n",
    "    data = data_senate_mat['whip_rc'],\n",
    "\tindex = [i+1 for i in range(len(data_senate_mat['whip_rc']))], # 1st column as index\n",
    "\tcolumns = [i+1 for i in range(len(data_senate_mat['whip_rc'][0]))] # 1st row as the column names\n",
    ")\n",
    "party_list_data_senate = pd.DataFrame(\n",
    "    data = data_senate_mat['party_list'],\n",
    "\tindex = [i+1 for i in range(len(data_senate_mat['party_list']))], # 1st column as index\n",
    "\tcolumns = [i+1 for i in range(len(data_senate_mat['party_list'][0]))] # 1st row as the column names\n",
    ")"
   ]
  }
 ],
 "metadata": {
  "kernelspec": {
   "display_name": "Python 3",
   "language": "python",
   "name": "python3"
  },
  "language_info": {
   "codemirror_mode": {
    "name": "ipython",
    "version": 3
   },
   "file_extension": ".py",
   "mimetype": "text/x-python",
   "name": "python",
   "nbconvert_exporter": "python",
   "pygments_lexer": "ipython3",
   "version": "3.8.10"
  }
 },
 "nbformat": 4,
 "nbformat_minor": 2
}
